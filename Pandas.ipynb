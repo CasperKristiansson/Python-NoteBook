{
 "metadata": {
  "language_info": {
   "codemirror_mode": {
    "name": "ipython",
    "version": 3
   },
   "file_extension": ".py",
   "mimetype": "text/x-python",
   "name": "python",
   "nbconvert_exporter": "python",
   "pygments_lexer": "ipython3",
   "version": "3.9.0"
  },
  "orig_nbformat": 4,
  "kernelspec": {
   "name": "python3",
   "display_name": "Python 3.9.0 64-bit"
  },
  "interpreter": {
   "hash": "236f09e83caaef835f7bc543546ae2a64f9e8f4dea95d3d6947df69990e931cb"
  }
 },
 "nbformat": 4,
 "nbformat_minor": 2,
 "cells": [
  {
   "source": [
    "# Pandas Module Note Book"
   ],
   "cell_type": "markdown",
   "metadata": {}
  },
  {
   "source": [
    "Open a excel document using openpyxl."
   ],
   "cell_type": "markdown",
   "metadata": {}
  },
  {
   "cell_type": "code",
   "execution_count": null,
   "metadata": {},
   "outputs": [],
   "source": [
    "excel_data = pandas.read_excel('Excel.xlsx', sheet_name='Sheet1', engine='openpyxl')"
   ]
  },
  {
   "source": [
    "Save data frame to excel. By using index=False, removes pandas built in index. This helps with removing the first column of just indexes."
   ],
   "cell_type": "markdown",
   "metadata": {}
  },
  {
   "cell_type": "code",
   "execution_count": null,
   "metadata": {},
   "outputs": [],
   "source": [
    "excel_data.to_excel(\"Excel.xlsx\", index=False)"
   ]
  },
  {
   "source": [
    "Add a column to a existing dataframe"
   ],
   "cell_type": "markdown",
   "metadata": {}
  },
  {
   "cell_type": "code",
   "execution_count": null,
   "metadata": {},
   "outputs": [],
   "source": [
    "excel_data['NewColumn'] = list"
   ]
  },
  {
   "source": [
    "Create a emty dataframe and fill in data slots with a value of 0."
   ],
   "cell_type": "markdown",
   "metadata": {}
  },
  {
   "cell_type": "code",
   "execution_count": null,
   "metadata": {},
   "outputs": [],
   "source": [
    "def get_scroller_dataframe(amount):\n",
    "    dataframe = pandas.DataFrame({\n",
    "                            \"Brightness\": [],\n",
    "                            \"Contrast\": [],\n",
    "                            \"Gamma\": [],\n",
    "                            \"Vignette\": [],\n",
    "                            \"Blur\": [],\n",
    "                            \"Color\": [],\n",
    "                            \"Sharpness\": []\n",
    "                            })\n",
    "    \n",
    "    for _ in range(amount):\n",
    "        dataframe = (dataframe.append({\"Brightness\": 0,\n",
    "                                    \"Contrast\": 0,\n",
    "                                    \"Gamma\": 0,\n",
    "                                    \"Vignette\": 0,\n",
    "                                    \"Blur\": 0,\n",
    "                                    \"Color\": 0,\n",
    "                                    \"Sharpness\": 0},\n",
    "                                    ignore_index=True))\n",
    "    \n",
    "    return dataframe"
   ]
  },
  {
   "source": [
    "Get data from dataframe to a list"
   ],
   "cell_type": "markdown",
   "metadata": {}
  },
  {
   "cell_type": "code",
   "execution_count": null,
   "metadata": {},
   "outputs": [],
   "source": [
    "excel_data['Column'].tolist()"
   ]
  },
  {
   "source": [
    "Because Pandas dataframe requires list to be the same length, by inputing 'nan' into the emty data cells fixes the problem. By adding the new data to a a existing column and using concat to add the old list and the new one together."
   ],
   "cell_type": "markdown",
   "metadata": {}
  },
  {
   "cell_type": "code",
   "execution_count": null,
   "metadata": {},
   "outputs": [],
   "source": [
    "def store_data(list_data, search_text):\n",
    "    excel_data = pandas.read_excel('Excel.xlsx', sheet_name='Sheet1', engine='openpyxl')\n",
    "    old_data = [x for x in excel_data[search_text].tolist() if str(x) != 'nan']\n",
    "\n",
    "    for current_link in list_data:\n",
    "        if current_link not in old_data:\n",
    "            old_data.append(current_link)\n",
    "\n",
    "    excel_data = pandas.concat([excel_data.drop(search_text, 1), pandas.DataFrame({search_text : old_data})], axis=1)\n",
    "    excel_data = excel_data.reindex(sorted(excel_data.columns), axis=1)\n",
    "\n",
    "    excel_data.to_excel(\"Excel.xlsx\", index=False)"
   ]
  }
 ]
}