{
 "metadata": {
  "language_info": {
   "codemirror_mode": {
    "name": "ipython",
    "version": 3
   },
   "file_extension": ".py",
   "mimetype": "text/x-python",
   "name": "python",
   "nbconvert_exporter": "python",
   "pygments_lexer": "ipython3",
   "version": 3
  },
  "orig_nbformat": 4
 },
 "nbformat": 4,
 "nbformat_minor": 2,
 "cells": [
  {
   "source": [
    "# Send Email"
   ],
   "cell_type": "markdown",
   "metadata": {}
  },
  {
   "source": [
    "Send email using smtplib"
   ],
   "cell_type": "markdown",
   "metadata": {}
  },
  {
   "cell_type": "code",
   "execution_count": null,
   "metadata": {},
   "outputs": [],
   "source": [
    "gmail_user = 'mail@gmail.com'\n",
    "gmail_password = '123'\n",
    "to = 'mail@gmail.com'\n",
    "subject = 'Subject'\n",
    "body = ''.join(result)\n",
    "email_text = \"\"\"\\\n",
    "From: %s\n",
    "To: %s\n",
    "Subject: %s\n",
    "%s\n",
    "\"\"\" % (gmail_user, \", \".join(to), subject, body)\n",
    "\n",
    "server = smtplib.SMTP_SSL('smtp.gmail.com', 465)\n",
    "server.ehlo()\n",
    "server.login(gmail_user, gmail_password)\n",
    "server.sendmail(gmail_user, to, email_text.encode(\"utf8\"))\n",
    "server.close()"
   ]
  }
 ]
}