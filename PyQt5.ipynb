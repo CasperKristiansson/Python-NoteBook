{
 "metadata": {
  "language_info": {
   "codemirror_mode": {
    "name": "ipython",
    "version": 3
   },
   "file_extension": ".py",
   "mimetype": "text/x-python",
   "name": "python",
   "nbconvert_exporter": "python",
   "pygments_lexer": "ipython3",
   "version": 3
  },
  "orig_nbformat": 4
 },
 "nbformat": 4,
 "nbformat_minor": 2,
 "cells": [
  {
   "source": [
    "# PyQt5 Notebook including QT Designer"
   ],
   "cell_type": "markdown",
   "metadata": {}
  },
  {
   "source": [
    "Imports used"
   ],
   "cell_type": "markdown",
   "metadata": {}
  },
  {
   "cell_type": "code",
   "execution_count": null,
   "metadata": {},
   "outputs": [],
   "source": [
    "from PyQt5 import QtWidgets, QtCore, QtGui, uic"
   ]
  },
  {
   "source": [
    "Setup in the main function. "
   ],
   "cell_type": "markdown",
   "metadata": {}
  },
  {
   "cell_type": "code",
   "execution_count": null,
   "metadata": {},
   "outputs": [],
   "source": [
    "def main():\n",
    "    global widget\n",
    "    app = QtWidgets.QApplication(sys.argv)\n",
    "\n",
    "    widget = QtWidgets.QStackedWidget()\n",
    "    widget.addWidget(Login())\n",
    "    widget.show()\n",
    "\n",
    "    widget.resize(1280, 720)\n",
    "\n",
    "    try:\n",
    "        sys.exit(app.exec())\n",
    "    except:\n",
    "        pass"
   ]
  },
  {
   "source": [
    "Basic class for each of the windows. Parent=None and parent could be removed but was needed for some of the cases"
   ],
   "cell_type": "markdown",
   "metadata": {}
  },
  {
   "cell_type": "code",
   "execution_count": null,
   "metadata": {},
   "outputs": [],
   "source": [
    "class Login(QtWidgets.QDialog):\n",
    "    def __init__(self, parent=None):\n",
    "        super(Login, self).__init__(parent)\n",
    "        uic.loadUi(\"Login.ui\", self"
   ]
  },
  {
   "source": [
    "Navigate between windows"
   ],
   "cell_type": "markdown",
   "metadata": {}
  },
  {
   "cell_type": "code",
   "execution_count": null,
   "metadata": {},
   "outputs": [],
   "source": [
    "widget.addWidget(Class())\n",
    "widget.setCurrentIndex(widget.currentIndex() + 1)"
   ]
  },
  {
   "source": [
    "Open file or folder"
   ],
   "cell_type": "markdown",
   "metadata": {}
  },
  {
   "cell_type": "code",
   "execution_count": null,
   "metadata": {},
   "outputs": [],
   "source": [
    "QtWidgets.QFileDialog.getExistingDirectory(self, \"Select Directory\")\n",
    "QtWidgets.QFileDialog.getOpenFileName(self, 'Open File', '.')\n",
    "\n",
    "#The open file will return a list. The acctual path will be at the index 1"
   ]
  },
  {
   "source": [
    "Basic button click"
   ],
   "cell_type": "markdown",
   "metadata": {}
  },
  {
   "cell_type": "code",
   "execution_count": null,
   "metadata": {},
   "outputs": [],
   "source": [
    " self.Button.clicked.connect(self.function)"
   ]
  },
  {
   "source": [
    "Hide label"
   ],
   "cell_type": "markdown",
   "metadata": {}
  },
  {
   "cell_type": "code",
   "execution_count": null,
   "metadata": {},
   "outputs": [],
   "source": [
    "self.label.hide()\n",
    "self.label.show()"
   ]
  },
  {
   "source": [
    "Set label text"
   ],
   "cell_type": "markdown",
   "metadata": {}
  },
  {
   "cell_type": "code",
   "execution_count": null,
   "metadata": {},
   "outputs": [],
   "source": [
    "self.label.setText('Text')"
   ]
  },
  {
   "source": [
    "Fade a label"
   ],
   "cell_type": "markdown",
   "metadata": {}
  },
  {
   "cell_type": "code",
   "execution_count": null,
   "metadata": {},
   "outputs": [],
   "source": [
    "def _extracted_from_get_image_folder_12(self, text):\n",
    "        self.no_images_found_label.setText(text)\n",
    "        self.no_images_found_label.show()\n",
    "        self.fade(self.no_images_found_label)\n",
    "\n",
    "    def fade(self, widget):\n",
    "        self.effect = QtWidgets.QGraphicsOpacityEffect()\n",
    "        widget.setGraphicsEffect(self.effect)\n",
    "\n",
    "        self.animation = QtCore.QPropertyAnimation(self.effect, b\"opacity\")\n",
    "        self.animation.setDuration(5000)\n",
    "        self.animation.setStartValue(1)\n",
    "        self.animation.setEndValue(0)\n",
    "        self.animation.start()"
   ]
  },
  {
   "source": [
    "Spinner value change"
   ],
   "cell_type": "markdown",
   "metadata": {}
  },
  {
   "cell_type": "code",
   "execution_count": null,
   "metadata": {},
   "outputs": [],
   "source": [
    "self.Spin.valueChanged.connect(self.function)"
   ]
  },
  {
   "source": [
    "Set spinner value"
   ],
   "cell_type": "markdown",
   "metadata": {}
  },
  {
   "cell_type": "code",
   "execution_count": null,
   "metadata": {},
   "outputs": [],
   "source": [
    "self.Spin.setValue(0)"
   ]
  },
  {
   "source": [
    "Threading, display image and so on: https://github.com/CasperKristiansson/Image-Editor/blob/main/ImageEditor.py"
   ],
   "cell_type": "markdown",
   "metadata": {}
  }
 ]
}