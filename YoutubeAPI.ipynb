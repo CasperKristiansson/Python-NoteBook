{
 "metadata": {
  "language_info": {
   "codemirror_mode": {
    "name": "ipython",
    "version": 3
   },
   "file_extension": ".py",
   "mimetype": "text/x-python",
   "name": "python",
   "nbconvert_exporter": "python",
   "pygments_lexer": "ipython3",
   "version": 3
  },
  "orig_nbformat": 4
 },
 "nbformat": 4,
 "nbformat_minor": 2,
 "cells": [
  {
   "source": [
    "# Youtube API Notebook"
   ],
   "cell_type": "markdown",
   "metadata": {}
  },
  {
   "cell_type": "code",
   "execution_count": null,
   "metadata": {},
   "outputs": [],
   "source": [
    "url = 'https://www.googleapis.com/youtube/v3/commentThreads?key=Keynummber=plainText&part=snippet&maxResults=100&order=time&videoId='\n",
    "\n",
    "data = requests.get(url = url).json()\n",
    "\n",
    "for items in data['items']:\n",
    "    channels_url.append(items['snippet']['topLevelComment']['snippet']['authorChannelUrl'])"
   ]
  }
 ]
}