{
 "metadata": {
  "language_info": {
   "codemirror_mode": {
    "name": "ipython",
    "version": 3
   },
   "file_extension": ".py",
   "mimetype": "text/x-python",
   "name": "python",
   "nbconvert_exporter": "python",
   "pygments_lexer": "ipython3",
   "version": 3
  },
  "orig_nbformat": 4
 },
 "nbformat": 4,
 "nbformat_minor": 2,
 "cells": [
  {
   "source": [
    "# OpenCv (CV2) and Pillow (PIL) Notebook"
   ],
   "cell_type": "markdown",
   "metadata": {}
  },
  {
   "source": [
    "Open images. NOTE: you cant open cv2 images backwards in file path. They can only be open forward using relative path."
   ],
   "cell_type": "markdown",
   "metadata": {}
  },
  {
   "cell_type": "code",
   "execution_count": null,
   "metadata": {},
   "outputs": [],
   "source": [
    "def get_image_object_pil(image_path):\n",
    "    return Image.open(image_path)\n",
    "\n",
    "def get_image_object_cv2(image_path):\n",
    "    return cv2.imread(image_path)"
   ]
  },
  {
   "source": [
    "Save image"
   ],
   "cell_type": "markdown",
   "metadata": {}
  },
  {
   "cell_type": "code",
   "execution_count": null,
   "metadata": {},
   "outputs": [],
   "source": [
    "image_object.save('Image.png')\n",
    "cv2.imwrite('Image.png', image_object) "
   ]
  },
  {
   "source": [
    "Show image using cv2. The if statment helps to resize the window if the image width is bigger than 600. Could be improved..."
   ],
   "cell_type": "markdown",
   "metadata": {}
  },
  {
   "cell_type": "code",
   "execution_count": null,
   "metadata": {},
   "outputs": [],
   "source": [
    "def show_image_cv2(image_object):\n",
    "    if image_object.shape[1] > 600:\n",
    "        scale = image_object.shape[1] / 600\n",
    "        width = int(image_object.shape[1] / scale)\n",
    "        height = int(image_object.shape[0] / scale)\n",
    "        dim = (width, height)\n",
    "        image_object = cv2.resize(image_object, dim, interpolation = cv2.INTER_AREA)\n",
    "\n",
    "    cv2.imshow(\"\", image_object)\n",
    "    cv2.waitKey(0)"
   ]
  },
  {
   "source": [
    "Resize image with cv2 and keep aspect ratio (max)"
   ],
   "cell_type": "markdown",
   "metadata": {}
  },
  {
   "cell_type": "code",
   "execution_count": null,
   "metadata": {},
   "outputs": [],
   "source": [
    "def scale_image_keep_aspect_ratio_max(image_object, desirable_width, desirable_height):\n",
    "    f = max(desirable_width / image_object.shape[1], desirable_height / image_object.shape[0])\n",
    "    return cv2.resize(image_object, (int(image_object.shape[1] * f + 1), int(image_object.shape[0] * f + 1)))"
   ]
  },
  {
   "source": [
    "Convert image object from PIL->Cv2 or Cv2->PIL"
   ],
   "cell_type": "markdown",
   "metadata": {}
  },
  {
   "cell_type": "code",
   "execution_count": null,
   "metadata": {},
   "outputs": [],
   "source": [
    "def convert_PIL_to_cv2(image_object):\n",
    "    return cv2.cvtColor(numpy.array(image_object), cv2.COLOR_RGB2BGR)\n",
    "\n",
    "def convert_cv2_to_PIL(image_object):\n",
    "    return Image.fromarray(cv2.cvtColor(image_object, cv2.COLOR_BGR2RGB))"
   ]
  }
 ]
}