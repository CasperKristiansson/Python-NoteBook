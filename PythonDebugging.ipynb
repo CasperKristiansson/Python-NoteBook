{
 "cells": [
  {
   "cell_type": "markdown",
   "source": [
    "# Python Debugging Notebook"
   ],
   "metadata": {}
  },
  {
   "cell_type": "markdown",
   "source": [
    "Fix \"python Fatal error in launcher: Unable to create process using\""
   ],
   "metadata": {}
  },
  {
   "cell_type": "code",
   "execution_count": null,
   "source": [
    "python -m pip install --upgrade --force-reinstall pip"
   ],
   "outputs": [],
   "metadata": {}
  }
 ],
 "metadata": {
  "orig_nbformat": 4,
  "language_info": {
   "name": "python"
  }
 },
 "nbformat": 4,
 "nbformat_minor": 2
}